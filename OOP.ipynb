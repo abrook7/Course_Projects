{
 "cells": [
  {
   "cell_type": "code",
   "execution_count": 2,
   "metadata": {},
   "outputs": [
    {
     "name": "stdout",
     "output_type": "stream",
     "text": [
      "<class 'bool'>\n"
     ]
    }
   ],
   "source": [
    "#OOP - object oriented programming\n",
    "#object = class\n",
    "#OOP allows us to create our own custom objects\n",
    "\n",
    "print(type(True))"
   ]
  },
  {
   "cell_type": "code",
   "execution_count": 3,
   "metadata": {},
   "outputs": [
    {
     "name": "stdout",
     "output_type": "stream",
     "text": [
      "<class '__main__.BigObject'>\n"
     ]
    }
   ],
   "source": [
    "# class - Capitalize and CamelCase\n",
    "class BigObject:\n",
    "    pass\n",
    "\n",
    "\n",
    "object_1 = BigObject()  # instantiate object of BigObject class\n",
    "\n",
    "print(type(object_1))"
   ]
  },
  {
   "cell_type": "code",
   "execution_count": 19,
   "metadata": {},
   "outputs": [
    {
     "name": "stdout",
     "output_type": "stream",
     "text": [
      "<__main__.PlayerCharacter object at 0x0000016812146FB0>\n",
      "Aidan\n",
      "24\n",
      "my name is Aidan\n",
      "None\n"
     ]
    }
   ],
   "source": [
    "# classes cont.\n",
    "# use singular language\n",
    "# add 'self' when defining any methods in the class\n",
    "class PlayerCharacter:\n",
    "    # Class Object Attribute - static attribute\n",
    "    membership = True\n",
    "    def __init__(self, name, age):  # constructer method, run on instantiation\n",
    "        if (self.membership):\n",
    "            self.name = name\n",
    "            self.age = age\n",
    "\n",
    "    def shout(self):\n",
    "        print(f\"my name is {self.name}\")\n",
    "\n",
    "\n",
    "player1 = PlayerCharacter(\"Aidan\", 24)\n",
    "print(player1)\n",
    "print(player1.name)\n",
    "print(player1.age)\n",
    "print(player1.shout())"
   ]
  },
  {
   "cell_type": "code",
   "execution_count": 15,
   "metadata": {},
   "outputs": [
    {
     "name": "stdout",
     "output_type": "stream",
     "text": [
      "Help on PlayerCharacter in module __main__ object:\n",
      "\n",
      "class PlayerCharacter(builtins.object)\n",
      " |  PlayerCharacter(name, age)\n",
      " |  \n",
      " |  Methods defined here:\n",
      " |  \n",
      " |  __init__(self, name, age)\n",
      " |      Initialize self.  See help(type(self)) for accurate signature.\n",
      " |  \n",
      " |  run(self)\n",
      " |  \n",
      " |  ----------------------------------------------------------------------\n",
      " |  Data descriptors defined here:\n",
      " |  \n",
      " |  __dict__\n",
      " |      dictionary for instance variables (if defined)\n",
      " |  \n",
      " |  __weakref__\n",
      " |      list of weak references to the object (if defined)\n",
      "\n"
     ]
    }
   ],
   "source": [
    "#Attributes and Methods of classes\n",
    "#pass 'self' attribute to all methods so you can use\n",
    "#self.___ to access variables defined in constructer\n",
    "help(player1)"
   ]
  },
  {
   "cell_type": "code",
   "execution_count": 20,
   "metadata": {},
   "outputs": [
    {
     "name": "stdout",
     "output_type": "stream",
     "text": [
      "The oldest cat is 5 years old.\n"
     ]
    }
   ],
   "source": [
    "#Exercise\n",
    "\n",
    "#Given the below class:\n",
    "class Cat:\n",
    "    species = 'mammal'\n",
    "    def __init__(self, name, age):\n",
    "        self.name = name\n",
    "        self.age = age\n",
    "\n",
    "\n",
    "# 1 Instantiate the Cat object with 3 cats\n",
    "cat1 = Cat('Marcy', 1)\n",
    "cat2 = Cat('Benson', 5)\n",
    "cat3 = Cat('Lola', 3)\n",
    "\n",
    "# 2 Create a function that finds the oldest cat\n",
    "def oldest_cat(*args):\n",
    "    return max(args)\n",
    "\n",
    "\n",
    "# 3 Print out: \"The oldest cat is x years old.\". x will be the oldest cat age by using the function in #2\n",
    "oldest = oldest_cat(cat1.age, cat2.age, cat3.age)\n",
    "print(f'The oldest cat is {oldest} years old.')"
   ]
  },
  {
   "cell_type": "code",
   "execution_count": 24,
   "metadata": {},
   "outputs": [
    {
     "name": "stdout",
     "output_type": "stream",
     "text": [
      "5\n",
      "6\n"
     ]
    }
   ],
   "source": [
    "#classmethod & static method\n",
    "\n",
    "class Equation:\n",
    "    def __init__(self) -> None:\n",
    "        pass\n",
    "\n",
    "    @classmethod #decorator - covered later\n",
    "    #care about class attributes\n",
    "    def adding_things(cls, num1, num2):\n",
    "        return num1 + num2\n",
    "    \n",
    "    @staticmethod #decorator - covered later\n",
    "    #doesn't care about class attributes\n",
    "    def adding_things(num1, num2):\n",
    "        return num1 + num2\n",
    "    \n",
    "eq1 = Equation()\n",
    "print(eq1.adding_things(2,3))\n",
    "print(Equation.adding_things(2,4))"
   ]
  }
 ],
 "metadata": {
  "kernelspec": {
   "display_name": "Python 3",
   "language": "python",
   "name": "python3"
  },
  "language_info": {
   "codemirror_mode": {
    "name": "ipython",
    "version": 3
   },
   "file_extension": ".py",
   "mimetype": "text/x-python",
   "name": "python",
   "nbconvert_exporter": "python",
   "pygments_lexer": "ipython3",
   "version": "3.10.11"
  },
  "orig_nbformat": 4
 },
 "nbformat": 4,
 "nbformat_minor": 2
}
