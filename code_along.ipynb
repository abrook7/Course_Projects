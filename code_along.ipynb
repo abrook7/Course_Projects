{
 "cells": [
  {
   "cell_type": "markdown",
   "metadata": {},
   "source": [
    "Coding along with the Complete Python Developer Zero-to-Mastery lectures"
   ]
  },
  {
   "cell_type": "code",
   "execution_count": 10,
   "metadata": {},
   "outputs": [
    {
     "name": "stdout",
     "output_type": "stream",
     "text": [
      "<class 'int'>\n",
      "<class 'int'>\n",
      "<class 'int'>\n",
      "<class 'float'>\n",
      "8\n",
      "1\n",
      "2\n",
      "0b1010\n"
     ]
    }
   ],
   "source": [
    "#Working with Numbers - int and float\n",
    "print(type(2 + 4))\n",
    "print(type(2 - 4))\n",
    "print(type(2 * 4))\n",
    "print(type(2 / 4)) #0.5\n",
    "\n",
    "print(2 **3)\n",
    "print(5 // 4)\n",
    "print(6 %4)\n",
    "\n",
    "print(bin(10))"
   ]
  },
  {
   "cell_type": "code",
   "execution_count": 8,
   "metadata": {},
   "outputs": [
    {
     "name": "stdout",
     "output_type": "stream",
     "text": [
      "1\n",
      "10000\n"
     ]
    }
   ],
   "source": [
    "#Math\n",
    "print(round(1.2))\n",
    "print(abs(-10000))\n"
   ]
  },
  {
   "cell_type": "code",
   "execution_count": 12,
   "metadata": {},
   "outputs": [
    {
     "name": "stdout",
     "output_type": "stream",
     "text": [
      "Aidan\n"
     ]
    }
   ],
   "source": [
    "#Variables - snake case, use letters, numbers, and underscores for naming\n",
    "user = 'Aidan'\n",
    "print(user)"
   ]
  },
  {
   "cell_type": "code",
   "execution_count": 14,
   "metadata": {},
   "outputs": [
    {
     "name": "stdout",
     "output_type": "stream",
     "text": [
      "1\n"
     ]
    }
   ],
   "source": [
    "#Augmented assignment operator\n",
    "i = 0\n",
    "i += 1\n",
    "print(i)"
   ]
  },
  {
   "cell_type": "code",
   "execution_count": 21,
   "metadata": {},
   "outputs": [
    {
     "name": "stdout",
     "output_type": "stream",
     "text": [
      "hello world\n",
      "what up world\n",
      "\n",
      "hello world\n",
      "deez nutz\n",
      ">:)\n",
      "\n",
      "hello world what up world\n"
     ]
    }
   ],
   "source": [
    "#String - text\n",
    "double_quote = \"hello world\"\n",
    "single_quote = 'what up world'\n",
    "long_string = '''\n",
    "hello world\n",
    "deez nutz\n",
    ">:)\n",
    "'''\n",
    "print(double_quote)\n",
    "print(single_quote)\n",
    "print(long_string)\n",
    "\n",
    "print(double_quote + ' ' + single_quote)"
   ]
  },
  {
   "cell_type": "code",
   "execution_count": 25,
   "metadata": {},
   "outputs": [
    {
     "name": "stdout",
     "output_type": "stream",
     "text": [
      "<class 'str'>\n",
      "my grade on the test is: 100\n"
     ]
    }
   ],
   "source": [
    "#Type conversion - change data types - ie int -> str\n",
    "print(type(str(100)))\n",
    "print('my grade on the test is: ' + str(100))"
   ]
  },
  {
   "cell_type": "code",
   "execution_count": 4,
   "metadata": {},
   "outputs": [
    {
     "name": "stdout",
     "output_type": "stream",
     "text": [
      "what's up world\n",
      "\t this is now tabbed over\n",
      "this is on one line \n",
      "this is on a new line\n"
     ]
    }
   ],
   "source": [
    "#Escape sequence - \\ - everything after \\ tells python is a string\n",
    "weather = 'what\\'s up world'\n",
    "add_tab = '\\t this is now tabbed over'\n",
    "new_line = 'this is on one line \\nthis is on a new line'\n",
    "print(weather)\n",
    "print(add_tab)\n",
    "print(new_line)"
   ]
  },
  {
   "cell_type": "code",
   "execution_count": 6,
   "metadata": {},
   "outputs": [
    {
     "name": "stdout",
     "output_type": "stream",
     "text": [
      "hi Aidan. You are 24 years old\n"
     ]
    }
   ],
   "source": [
    "#Formatted Strings (f strings) - or use .format for python2\n",
    "name = 'Aidan'\n",
    "age = 24\n",
    "print(f'hi {name}. You are {age} years old')"
   ]
  },
  {
   "cell_type": "code",
   "execution_count": 11,
   "metadata": {},
   "outputs": [
    {
     "name": "stdout",
     "output_type": "stream",
     "text": [
      "Aidan\n",
      "n\n",
      "nadiA ih\n"
     ]
    }
   ],
   "source": [
    "#String Indexes - str[start:stop:step]\n",
    "greeting = 'hi Aidan'\n",
    "print(greeting[3:len(greeting)])\n",
    "print(greeting[-1])\n",
    "print(greeting[::-1]) #reverse string"
   ]
  },
  {
   "cell_type": "code",
   "execution_count": 5,
   "metadata": {},
   "outputs": [
    {
     "name": "stdout",
     "output_type": "stream",
     "text": [
      "15\n",
      "to be or not to be\n",
      "TO BE OR NOT TO BE\n",
      "To be or not to be\n",
      "3\n",
      "to me or not to me\n"
     ]
    }
   ],
   "source": [
    "#Built-in functions/methods - strings\n",
    "print(len('djal;fjda;fkkaf'))\n",
    "quote = 'to be or not to be'\n",
    "print(quote)\n",
    "print(quote.upper())\n",
    "print(quote.capitalize())\n",
    "print(quote.find('be'))\n",
    "print(quote.replace('be','me'))"
   ]
  },
  {
   "cell_type": "code",
   "execution_count": 8,
   "metadata": {},
   "outputs": [
    {
     "name": "stdout",
     "output_type": "stream",
     "text": [
      "False\n",
      "True\n",
      "True\n"
     ]
    }
   ],
   "source": [
    "#Boolean's - True 1, False 0\n",
    "name = 'Aidan'\n",
    "is_cool = False\n",
    "print(is_cool)\n",
    "is_cool = True\n",
    "print(is_cool)\n",
    "print(bool(1))"
   ]
  }
 ],
 "metadata": {
  "kernelspec": {
   "display_name": "Python 3",
   "language": "python",
   "name": "python3"
  },
  "language_info": {
   "codemirror_mode": {
    "name": "ipython",
    "version": 3
   },
   "file_extension": ".py",
   "mimetype": "text/x-python",
   "name": "python",
   "nbconvert_exporter": "python",
   "pygments_lexer": "ipython3",
   "version": "3.10.11"
  },
  "orig_nbformat": 4
 },
 "nbformat": 4,
 "nbformat_minor": 2
}
