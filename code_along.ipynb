{
 "cells": [
  {
   "cell_type": "markdown",
   "metadata": {},
   "source": [
    "Coding along with the Complete Python Developer Zero-to-Mastery lectures"
   ]
  },
  {
   "cell_type": "code",
   "execution_count": 10,
   "metadata": {},
   "outputs": [
    {
     "name": "stdout",
     "output_type": "stream",
     "text": [
      "<class 'int'>\n",
      "<class 'int'>\n",
      "<class 'int'>\n",
      "<class 'float'>\n",
      "8\n",
      "1\n",
      "2\n",
      "0b1010\n"
     ]
    }
   ],
   "source": [
    "#Working with Numbers - int and float\n",
    "print(type(2 + 4))\n",
    "print(type(2 - 4))\n",
    "print(type(2 * 4))\n",
    "print(type(2 / 4)) #0.5\n",
    "\n",
    "print(2 **3)\n",
    "print(5 // 4)\n",
    "print(6 %4)\n",
    "\n",
    "print(bin(10))"
   ]
  },
  {
   "cell_type": "code",
   "execution_count": 8,
   "metadata": {},
   "outputs": [
    {
     "name": "stdout",
     "output_type": "stream",
     "text": [
      "1\n",
      "10000\n"
     ]
    }
   ],
   "source": [
    "#Math\n",
    "print(round(1.2))\n",
    "print(abs(-10000))\n"
   ]
  },
  {
   "cell_type": "code",
   "execution_count": 12,
   "metadata": {},
   "outputs": [
    {
     "name": "stdout",
     "output_type": "stream",
     "text": [
      "Aidan\n"
     ]
    }
   ],
   "source": [
    "#Variables - snake case, use letters, numbers, and underscores for naming\n",
    "user = 'Aidan'\n",
    "print(user)"
   ]
  },
  {
   "cell_type": "code",
   "execution_count": 14,
   "metadata": {},
   "outputs": [
    {
     "name": "stdout",
     "output_type": "stream",
     "text": [
      "1\n"
     ]
    }
   ],
   "source": [
    "#Augmented assignment operator\n",
    "i = 0\n",
    "i += 1\n",
    "print(i)"
   ]
  },
  {
   "cell_type": "code",
   "execution_count": 21,
   "metadata": {},
   "outputs": [
    {
     "name": "stdout",
     "output_type": "stream",
     "text": [
      "hello world\n",
      "what up world\n",
      "\n",
      "hello world\n",
      "deez nutz\n",
      ">:)\n",
      "\n",
      "hello world what up world\n"
     ]
    }
   ],
   "source": [
    "#String - text\n",
    "double_quote = \"hello world\"\n",
    "single_quote = 'what up world'\n",
    "long_string = '''\n",
    "hello world\n",
    "deez nutz\n",
    ">:)\n",
    "'''\n",
    "print(double_quote)\n",
    "print(single_quote)\n",
    "print(long_string)\n",
    "\n",
    "print(double_quote + ' ' + single_quote)"
   ]
  },
  {
   "cell_type": "code",
   "execution_count": 25,
   "metadata": {},
   "outputs": [
    {
     "name": "stdout",
     "output_type": "stream",
     "text": [
      "<class 'str'>\n",
      "my grade on the test is: 100\n"
     ]
    }
   ],
   "source": [
    "#Type conversion - change data types - ie int -> str\n",
    "print(type(str(100)))\n",
    "print('my grade on the test is: ' + str(100))"
   ]
  },
  {
   "cell_type": "code",
   "execution_count": 4,
   "metadata": {},
   "outputs": [
    {
     "name": "stdout",
     "output_type": "stream",
     "text": [
      "what's up world\n",
      "\t this is now tabbed over\n",
      "this is on one line \n",
      "this is on a new line\n"
     ]
    }
   ],
   "source": [
    "#Escape sequence - \\ - everything after \\ tells python is a string\n",
    "weather = 'what\\'s up world'\n",
    "add_tab = '\\t this is now tabbed over'\n",
    "new_line = 'this is on one line \\nthis is on a new line'\n",
    "print(weather)\n",
    "print(add_tab)\n",
    "print(new_line)"
   ]
  },
  {
   "cell_type": "code",
   "execution_count": 6,
   "metadata": {},
   "outputs": [
    {
     "name": "stdout",
     "output_type": "stream",
     "text": [
      "hi Aidan. You are 24 years old\n"
     ]
    }
   ],
   "source": [
    "#Formatted Strings (f strings) - or use .format for python2\n",
    "name = 'Aidan'\n",
    "age = 24\n",
    "print(f'hi {name}. You are {age} years old')"
   ]
  },
  {
   "cell_type": "code",
   "execution_count": 11,
   "metadata": {},
   "outputs": [
    {
     "name": "stdout",
     "output_type": "stream",
     "text": [
      "Aidan\n",
      "n\n",
      "nadiA ih\n"
     ]
    }
   ],
   "source": [
    "#String Indexes - str[start:stop:step]\n",
    "greeting = 'hi Aidan'\n",
    "print(greeting[3:len(greeting)])\n",
    "print(greeting[-1])\n",
    "print(greeting[::-1]) #reverse string"
   ]
  },
  {
   "cell_type": "code",
   "execution_count": 5,
   "metadata": {},
   "outputs": [
    {
     "name": "stdout",
     "output_type": "stream",
     "text": [
      "15\n",
      "to be or not to be\n",
      "TO BE OR NOT TO BE\n",
      "To be or not to be\n",
      "3\n",
      "to me or not to me\n"
     ]
    }
   ],
   "source": [
    "#Built-in functions/methods - strings\n",
    "print(len('djal;fjda;fkkaf'))\n",
    "quote = 'to be or not to be'\n",
    "print(quote)\n",
    "print(quote.upper())\n",
    "print(quote.capitalize())\n",
    "print(quote.find('be'))\n",
    "print(quote.replace('be','me'))"
   ]
  },
  {
   "cell_type": "code",
   "execution_count": 8,
   "metadata": {},
   "outputs": [
    {
     "name": "stdout",
     "output_type": "stream",
     "text": [
      "False\n",
      "True\n",
      "True\n"
     ]
    }
   ],
   "source": [
    "#Boolean's - True 1, False 0\n",
    "name = 'Aidan'\n",
    "is_cool = False\n",
    "print(is_cool)\n",
    "is_cool = True\n",
    "print(is_cool)\n",
    "print(bool(1))"
   ]
  },
  {
   "cell_type": "code",
   "execution_count": 6,
   "metadata": {},
   "outputs": [
    {
     "name": "stdout",
     "output_type": "stream",
     "text": [
      "your age is: 24\n"
     ]
    }
   ],
   "source": [
    "#Type Conversion\n",
    "birth_year = input('what year were you born?')\n",
    "age = 2023 - int(birth_year)\n",
    "print(f'your age is: {age}')\n"
   ]
  },
  {
   "cell_type": "code",
   "execution_count": null,
   "metadata": {},
   "outputs": [],
   "source": [
    "#Dev Fundamentals - Comment your code!!\n",
    "name = 'Aidan' #this assigns the variable\n",
    "key_guidelines = '''\n",
    "Add good comments that explain code,\n",
    "but try to write code that is easy to\n",
    "understand. Use comments to explain \n",
    "more complex processes in code blocks.\n",
    "'''"
   ]
  },
  {
   "cell_type": "code",
   "execution_count": 10,
   "metadata": {},
   "outputs": [
    {
     "name": "stdout",
     "output_type": "stream",
     "text": [
      "Aidan1 your password ******* is 7 characters long\n"
     ]
    }
   ],
   "source": [
    "#Password Checker - Exercise\n",
    "username = input('Username: ')\n",
    "password = input('Password: ')\n",
    "\n",
    "password_length = len(password)\n",
    "encrypted_password = '*' * len(password)\n",
    "\n",
    "print(f'{username} your password {encrypted_password} is {password_length} characters long')"
   ]
  },
  {
   "cell_type": "code",
   "execution_count": 12,
   "metadata": {},
   "outputs": [
    {
     "name": "stdout",
     "output_type": "stream",
     "text": [
      "glasses\n"
     ]
    }
   ],
   "source": [
    "#Lists - similar to arrays\n",
    "li = [1,2,3,4,5]\n",
    "li2 = ['a','b','c']\n",
    "li3 = [1,2.5,'a',True]\n",
    "\n",
    "amazon_cart = ['book','glasses']\n",
    "print(amazon_cart[1])"
   ]
  },
  {
   "cell_type": "code",
   "execution_count": 15,
   "metadata": {},
   "outputs": [
    {
     "name": "stdout",
     "output_type": "stream",
     "text": [
      "['book', 'glasses', 'toys', 'grapes']\n",
      "['book', 'toys']\n",
      "['book', 'sunglasses', 'toys', 'grapes']\n"
     ]
    }
   ],
   "source": [
    "#List Slicing\n",
    "amazon_cart = [\n",
    "    'book',\n",
    "    'glasses',\n",
    "    'toys',\n",
    "    'grapes'\n",
    "    ]\n",
    "\n",
    "print(amazon_cart)\n",
    "print(amazon_cart[0::2])\n",
    "amazon_cart[1] = 'sunglasses'\n",
    "print(amazon_cart) #lists are mutable and can be changed\n",
    "new_cart = amazon_cart[:] #use this to copy list otherwise new_cart just references amazon_cart "
   ]
  },
  {
   "cell_type": "code",
   "execution_count": 18,
   "metadata": {},
   "outputs": [
    {
     "name": "stdout",
     "output_type": "stream",
     "text": [
      "5\n"
     ]
    }
   ],
   "source": [
    "#Matrix\n",
    "matrix = [\n",
    "    [1,5,1],\n",
    "    [0,1,0],\n",
    "    [1,0,1]\n",
    "]\n",
    "\n",
    "print(matrix[0][1]) #to access matrix, row then column"
   ]
  },
  {
   "cell_type": "code",
   "execution_count": 34,
   "metadata": {},
   "outputs": [
    {
     "name": "stdout",
     "output_type": "stream",
     "text": [
      "[1, 2, 3, 4, 5, 100]\n",
      "[1, 2, 3, 4, 100, 5, 100]\n",
      "[1, 2, 3, 4, 100, 5, 100, 200, 201, 202]\n",
      "202\n",
      "[1, 2, 3, 4, 100, 5, 100, 200, 201]\n",
      "1\n",
      "[2, 3, 4, 100, 5, 100, 200, 201]\n",
      "[2, 3, 100, 5, 100, 200, 201]\n",
      "[]\n"
     ]
    }
   ],
   "source": [
    "#List Methods\n",
    "basket = [1,2,3,4,5]\n",
    "\n",
    "#add elements\n",
    "basket.append(100) #inplace method\n",
    "print(basket)\n",
    "basket.insert(4,100)\n",
    "print(basket)\n",
    "basket.extend([200,201,202])\n",
    "print(basket)\n",
    "\n",
    "#remove elements\n",
    "last_element = basket.pop()\n",
    "print(last_element)\n",
    "print(basket)\n",
    "first_element = basket.pop(0)\n",
    "print(first_element)\n",
    "print(basket)\n",
    "basket.remove(4)\n",
    "print(basket)\n",
    "basket.clear()\n",
    "print(basket)"
   ]
  },
  {
   "cell_type": "code",
   "execution_count": 42,
   "metadata": {},
   "outputs": [
    {
     "name": "stdout",
     "output_type": "stream",
     "text": [
      "3\n",
      "True\n",
      "False\n",
      "2\n"
     ]
    }
   ],
   "source": [
    "#more List Methods\n",
    "basket = ['a','b','c','d','e','d']\n",
    "\n",
    "#indexing\n",
    "print(basket.index('d'))\n",
    "print('b' in basket)\n",
    "print('x' in basket)\n",
    "print(basket.count('d'))"
   ]
  },
  {
   "cell_type": "code",
   "execution_count": 46,
   "metadata": {},
   "outputs": [
    {
     "name": "stdout",
     "output_type": "stream",
     "text": [
      "['a', 'b', 'c', 'd', 'd', 'e', 'x', 'y']\n",
      "['a', 'b', 'c', 'd', 'd', 'e', 'x', 'y']\n",
      "['y', 'x', 'e', 'd', 'd', 'c', 'b', 'a']\n"
     ]
    }
   ],
   "source": [
    "#even more List Methods\n",
    "basket = ['x','y','a','b','c','d','e','d']\n",
    "\n",
    "new_basket = basket.copy()\n",
    "\n",
    "print(sorted(basket)) #creates new list\n",
    "basket.sort() #inplace\n",
    "print(basket)\n",
    "\n",
    "basket.reverse()\n",
    "print(basket)"
   ]
  },
  {
   "cell_type": "code",
   "execution_count": 53,
   "metadata": {},
   "outputs": [
    {
     "name": "stdout",
     "output_type": "stream",
     "text": [
      "8\n",
      "['d', 'e', 'd', 'c', 'b', 'a', 'y', 'x']\n",
      "[1, 2, 3, 4, 5, 6, 7, 8, 9, 10, 11, 12, 13, 14, 15, 16, 17, 18, 19, 20, 21, 22, 23, 24, 25, 26, 27, 28, 29, 30, 31, 32, 33, 34, 35, 36, 37, 38, 39, 40, 41, 42, 43, 44, 45, 46, 47, 48, 49, 50, 51, 52, 53, 54, 55, 56, 57, 58, 59, 60, 61, 62, 63, 64, 65, 66, 67, 68, 69, 70, 71, 72, 73, 74, 75, 76, 77, 78, 79, 80, 81, 82, 83, 84, 85, 86, 87, 88, 89, 90, 91, 92, 93, 94, 95, 96, 97, 98, 99, 100]\n",
      "hi my name is aidan\n"
     ]
    }
   ],
   "source": [
    "#common list patterns\n",
    "basket = ['x','y','a','b','c','d','e','d']\n",
    "\n",
    "print(len(basket))\n",
    "print(basket[::-1])\n",
    "\n",
    "print(list(range(1,101)))\n",
    "\n",
    "new_sentence = ' '.join(['hi','my','name','is','aidan'])\n",
    "print(new_sentence)"
   ]
  },
  {
   "cell_type": "code",
   "execution_count": 57,
   "metadata": {},
   "outputs": [
    {
     "name": "stdout",
     "output_type": "stream",
     "text": [
      "1\n",
      "2\n",
      "3\n",
      "[4, 5, 6, 7, 8]\n",
      "9\n"
     ]
    }
   ],
   "source": [
    "#list unpacking\n",
    "a,b,c,*other,d = [1,2,3,4,5,6,7,8,9]\n",
    "print(a)\n",
    "print(b)\n",
    "print(c)\n",
    "print(other)\n",
    "print(d)"
   ]
  }
 ],
 "metadata": {
  "kernelspec": {
   "display_name": "Python 3",
   "language": "python",
   "name": "python3"
  },
  "language_info": {
   "codemirror_mode": {
    "name": "ipython",
    "version": 3
   },
   "file_extension": ".py",
   "mimetype": "text/x-python",
   "name": "python",
   "nbconvert_exporter": "python",
   "pygments_lexer": "ipython3",
   "version": "3.10.11"
  },
  "orig_nbformat": 4
 },
 "nbformat": 4,
 "nbformat_minor": 2
}
