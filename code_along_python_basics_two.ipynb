{
 "cells": [
  {
   "cell_type": "markdown",
   "metadata": {},
   "source": [
    "Coding along with the Complete Python Developer Zero-to-Mastery python basics II lectures"
   ]
  },
  {
   "cell_type": "code",
   "execution_count": 3,
   "metadata": {},
   "outputs": [
    {
     "name": "stdout",
     "output_type": "stream",
     "text": [
      "you are old enough to drive!\n"
     ]
    }
   ],
   "source": [
    "#conditional logic\n",
    "is_old = True\n",
    "is_licenced = True\n",
    "\n",
    "if is_old:\n",
    "    print('you are old enough to drive!')\n",
    "elif is_licenced:\n",
    "    print('you can drive now!')\n",
    "else:\n",
    "    print('you are a baby')"
   ]
  },
  {
   "cell_type": "code",
   "execution_count": 1,
   "metadata": {},
   "outputs": [
    {
     "name": "stdout",
     "output_type": "stream",
     "text": [
      "message allowed\n"
     ]
    }
   ],
   "source": [
    "#Ternary Operator - \n",
    "#condition_if_true if condition else condition_if_false\n",
    "\n",
    "is_friend = True\n",
    "can_message = \"message allowed\" if is_friend else \"not allowed to message\"\n",
    "\n",
    "print(can_message)"
   ]
  },
  {
   "cell_type": "code",
   "execution_count": 2,
   "metadata": {},
   "outputs": [
    {
     "name": "stdout",
     "output_type": "stream",
     "text": [
      "best friends forever\n"
     ]
    }
   ],
   "source": [
    "#Short Circuiting\n",
    "\n",
    "is_friend = True\n",
    "is_user = False\n",
    "\n",
    "if is_friend or is_user:\n",
    "    print('best friends forever')"
   ]
  },
  {
   "cell_type": "code",
   "execution_count": 4,
   "metadata": {},
   "outputs": [
    {
     "name": "stdout",
     "output_type": "stream",
     "text": [
      "False\n"
     ]
    }
   ],
   "source": [
    "#Logical Operators\n",
    "#and, or, not, >, <, ==, !=\n",
    "\n",
    "if 4 > 5:\n",
    "    print('pog')\n",
    "\n",
    "print(not(True))"
   ]
  },
  {
   "cell_type": "code",
   "execution_count": 8,
   "metadata": {},
   "outputs": [
    {
     "name": "stdout",
     "output_type": "stream",
     "text": [
      "you need magic powers\n"
     ]
    }
   ],
   "source": [
    "#Logical Operators Exercise\n",
    "is_magician = False\n",
    "is_expert = True\n",
    "\n",
    "#check if magician AND expert\n",
    "#check if magician but not expert\n",
    "#check if not magician\n",
    "\n",
    "if is_magician:\n",
    "    if is_expert:\n",
    "        print('you are a master magician')\n",
    "    else:\n",
    "        print('atleast you\\'re getting there')\n",
    "else:\n",
    "    print('you need magic powers')\n"
   ]
  },
  {
   "cell_type": "code",
   "execution_count": 11,
   "metadata": {},
   "outputs": [
    {
     "name": "stdout",
     "output_type": "stream",
     "text": [
      "True\n",
      "False\n",
      "False\n",
      "True\n",
      "True\n",
      "False\n",
      "False\n",
      "False\n",
      "False\n",
      "False\n"
     ]
    },
    {
     "name": "stderr",
     "output_type": "stream",
     "text": [
      "<>:9: SyntaxWarning: \"is\" with a literal. Did you mean \"==\"?\n",
      "<>:10: SyntaxWarning: \"is\" with a literal. Did you mean \"==\"?\n",
      "<>:11: SyntaxWarning: \"is\" with a literal. Did you mean \"==\"?\n",
      "<>:12: SyntaxWarning: \"is\" with a literal. Did you mean \"==\"?\n",
      "<>:9: SyntaxWarning: \"is\" with a literal. Did you mean \"==\"?\n",
      "<>:10: SyntaxWarning: \"is\" with a literal. Did you mean \"==\"?\n",
      "<>:11: SyntaxWarning: \"is\" with a literal. Did you mean \"==\"?\n",
      "<>:12: SyntaxWarning: \"is\" with a literal. Did you mean \"==\"?\n",
      "C:\\Users\\Aids\\AppData\\Local\\Temp\\ipykernel_11468\\4215124175.py:9: SyntaxWarning: \"is\" with a literal. Did you mean \"==\"?\n",
      "  print(True is 1)\n",
      "C:\\Users\\Aids\\AppData\\Local\\Temp\\ipykernel_11468\\4215124175.py:10: SyntaxWarning: \"is\" with a literal. Did you mean \"==\"?\n",
      "  print('1' is 1)\n",
      "C:\\Users\\Aids\\AppData\\Local\\Temp\\ipykernel_11468\\4215124175.py:11: SyntaxWarning: \"is\" with a literal. Did you mean \"==\"?\n",
      "  print([] is 1)\n",
      "C:\\Users\\Aids\\AppData\\Local\\Temp\\ipykernel_11468\\4215124175.py:12: SyntaxWarning: \"is\" with a literal. Did you mean \"==\"?\n",
      "  print(10 is 10.0)\n"
     ]
    }
   ],
   "source": [
    "#is vs ==\n",
    "print(True == 1)\n",
    "print('1' == 1)\n",
    "print([]==1)\n",
    "print(10 == 10.0)\n",
    "print([] == [])\n",
    "\n",
    "#is checks if both objects are at the same place in memory\n",
    "print(True is 1)\n",
    "print('1' is 1)\n",
    "print([] is 1)\n",
    "print(10 is 10.0)\n",
    "print([] is [])\n"
   ]
  },
  {
   "cell_type": "code",
   "execution_count": null,
   "metadata": {},
   "outputs": [],
   "source": [
    "#loops - for loops\n",
    "for item in 'Zero to Mastery':\n",
    "    print(item)\n",
    "for item in [1,2,3,4,5]:\n",
    "    print(item)\n",
    "\n",
    "for item in 'item':\n",
    "    for x in [1,2,3]:\n",
    "        print(item, x)"
   ]
  },
  {
   "cell_type": "code",
   "execution_count": 22,
   "metadata": {},
   "outputs": [
    {
     "name": "stdout",
     "output_type": "stream",
     "text": [
      "name Golem\n",
      "age 5006\n",
      "can_swim False\n",
      "Golem\n",
      "5006\n",
      "False\n",
      "name\n",
      "age\n",
      "can_swim\n"
     ]
    }
   ],
   "source": [
    "#iterable - object/collection that can be iterated over\n",
    "#can be list, dict, tuple, set, string\n",
    "\n",
    "user = {\n",
    "    'name': 'Golem',\n",
    "    'age': 5006,\n",
    "    'can_swim': False\n",
    "}\n",
    "\n",
    "#can use dict methods for loops\n",
    "for key, value in user.items():\n",
    "    print(key, value)\n",
    "\n",
    "for item in user.values():\n",
    "    print(item)\n",
    "\n",
    "for item in user.keys():\n",
    "    print(item)"
   ]
  },
  {
   "cell_type": "code",
   "execution_count": 23,
   "metadata": {},
   "outputs": [
    {
     "name": "stdout",
     "output_type": "stream",
     "text": [
      "55\n"
     ]
    }
   ],
   "source": [
    "#loop exercise - counter - sum list\n",
    "\n",
    "my_list = [1,2,3,4,5,6,7,8,9,10]\n",
    "sum = 0\n",
    "\n",
    "for num in my_list:\n",
    "    sum += num\n",
    "\n",
    "print(sum)"
   ]
  },
  {
   "cell_type": "code",
   "execution_count": 27,
   "metadata": {},
   "outputs": [
    {
     "name": "stdout",
     "output_type": "stream",
     "text": [
      "0\n",
      "2\n",
      "4\n",
      "6\n",
      "8\n"
     ]
    }
   ],
   "source": [
    "#range function - commonly used in for loops\n",
    "\n",
    "for i in range(0,10,2):\n",
    "    print(i)\n"
   ]
  },
  {
   "cell_type": "code",
   "execution_count": 29,
   "metadata": {},
   "outputs": [
    {
     "name": "stdout",
     "output_type": "stream",
     "text": [
      "0 H\n",
      "1 e\n",
      "2 l\n",
      "3 l\n",
      "4 o\n",
      "the index is 50\n"
     ]
    }
   ],
   "source": [
    "#enumerate function - outputs index and value\n",
    "\n",
    "for i, char in enumerate('Hello'):\n",
    "    print(i,char)\n",
    "\n",
    "#exercise - print the index of number 50 in the list\n",
    "long_list = list(range(100))\n",
    "\n",
    "for i, element in enumerate(long_list):\n",
    "    if element == 50:\n",
    "        print(f'the index is {i}')"
   ]
  },
  {
   "cell_type": "code",
   "execution_count": null,
   "metadata": {},
   "outputs": [],
   "source": [
    "#While loops - loop as long as condition is true\n",
    "\n",
    "i = 0\n",
    "while i < 50:\n",
    "    print(i)\n",
    "    i+=1\n",
    "else: #does not execute with a break in while loop\n",
    "    print('done counting')"
   ]
  },
  {
   "cell_type": "code",
   "execution_count": 5,
   "metadata": {},
   "outputs": [],
   "source": [
    "#While loop cont\n",
    "\n",
    "while True:\n",
    "    response = input('say something :')\n",
    "    if response == 'bye':\n",
    "        break"
   ]
  },
  {
   "cell_type": "code",
   "execution_count": null,
   "metadata": {},
   "outputs": [],
   "source": [
    "#break, continue, pass\n",
    "\n",
    "i = 0\n",
    "while i < 50:\n",
    "    print(i)\n",
    "    i+=1\n",
    "    continue\n",
    "    print('deez nutz')\n",
    "\n",
    "i = 0\n",
    "while i < 50:\n",
    "    print(i)\n",
    "    i+=1\n",
    "    pass\n",
    "    print('deez nutz')\n",
    "\n",
    "for item in [1,2,3]:\n",
    "    #thinking about code - using pass keeps this from erroring\n",
    "    pass"
   ]
  },
  {
   "cell_type": "code",
   "execution_count": 13,
   "metadata": {},
   "outputs": [
    {
     "name": "stdout",
     "output_type": "stream",
     "text": [
      "    *    \n",
      "   ***   \n",
      "  *****  \n",
      " ******* \n",
      "*********\n",
      " ******* \n",
      " ******* \n",
      "  *****  \n",
      "   ***   \n",
      "    *    \n"
     ]
    }
   ],
   "source": [
    "#GUI - exercise\n",
    "\n",
    "#loop through list of lists - display empty space ' ' where 0 and '*' where 1\n",
    "picture = [\n",
    "    [0,0,0,0,1,0,0,0,0],\n",
    "    [0,0,0,1,1,1,0,0,0],\n",
    "    [0,0,1,1,1,1,1,0,0],\n",
    "    [0,1,1,1,1,1,1,1,0],\n",
    "    [1,1,1,1,1,1,1,1,1],\n",
    "    [0,1,1,1,1,1,1,1,0],\n",
    "    [0,1,1,1,1,1,1,1,0],\n",
    "    [0,0,1,1,1,1,1,0,0],\n",
    "    [0,0,0,1,1,1,0,0,0],\n",
    "    [0,0,0,0,1,0,0,0,0]\n",
    "]\n",
    "\n",
    "fill = '*'\n",
    "empty = ' '\n",
    "\n",
    "for row in picture:\n",
    "    row_interface = ''\n",
    "    for column in row:\n",
    "        if column:\n",
    "            row_interface += fill\n",
    "        else:\n",
    "            row_interface += empty\n",
    "    print(row_interface)\n"
   ]
  },
  {
   "cell_type": "code",
   "execution_count": null,
   "metadata": {},
   "outputs": [],
   "source": [
    "#Developer fundamentals - what is clean good code\n",
    "\n",
    "#clean\n",
    "#readability\n",
    "#predictability\n",
    "#DRY - don't repeat yourself"
   ]
  },
  {
   "cell_type": "code",
   "execution_count": 17,
   "metadata": {},
   "outputs": [
    {
     "name": "stdout",
     "output_type": "stream",
     "text": [
      "['b', 'n']\n"
     ]
    }
   ],
   "source": [
    "#Find Duplicates - Exercise\n",
    "some_list = ['a', 'b','c','b','d','m','n','n','n']\n",
    "\n",
    "potential_duplicates = {}\n",
    "duplicates = []\n",
    "for letter in some_list:\n",
    "    if letter in potential_duplicates.keys() and potential_duplicates[letter] != 2:\n",
    "        potential_duplicates[letter] += 1\n",
    "        duplicates.append(letter)\n",
    "    else:\n",
    "        potential_duplicates[letter] = 1\n",
    "\n",
    "print(duplicates)"
   ]
  },
  {
   "cell_type": "code",
   "execution_count": 25,
   "metadata": {},
   "outputs": [
    {
     "name": "stdout",
     "output_type": "stream",
     "text": [
      "hellooo\n",
      "hellooo\n",
      "hellooo\n"
     ]
    }
   ],
   "source": [
    "#Functions - create your own\n",
    "#useful for code that needs to be re-used\n",
    "\n",
    "def say_hello():\n",
    "    print('hellooo')\n",
    "\n",
    "say_hello()"
   ]
  },
  {
   "cell_type": "code",
   "execution_count": 27,
   "metadata": {},
   "outputs": [
    {
     "name": "stdout",
     "output_type": "stream",
     "text": [
      "hellooo Aidan :)\n"
     ]
    }
   ],
   "source": [
    "#Functions - arguments & parameters\n",
    "\n",
    "#parameters - used when defining the fuction\n",
    "def greeting(name, emoji):\n",
    "    print(f'hellooo {name} {emoji}')\n",
    "\n",
    "#arguments - used when calling the function\n",
    "greeting('Aidan',':)')"
   ]
  },
  {
   "cell_type": "code",
   "execution_count": 32,
   "metadata": {},
   "outputs": [
    {
     "name": "stdout",
     "output_type": "stream",
     "text": [
      "hellooo Aidan :)\n",
      "hellooo Aidan :)\n",
      "hiiiii Aidan :)\n",
      "hiiiii Darth Vader >:)\n"
     ]
    }
   ],
   "source": [
    "#Default parameters and keyword arguments\n",
    "\n",
    "#positional arguments\n",
    "greeting('Aidan',':)')\n",
    "\n",
    "#keyword arguments\n",
    "greeting(name = 'Aidan', emoji = ':)')\n",
    "\n",
    "#Default Parameters\n",
    "def say_hi(name='Darth Vader', emoji='>:)'):\n",
    "    print(f'hiiiii {name} {emoji}')\n",
    "\n",
    "say_hi(name = 'Aidan', emoji = ':)')\n",
    "say_hi()"
   ]
  },
  {
   "cell_type": "code",
   "execution_count": 1,
   "metadata": {},
   "outputs": [
    {
     "data": {
      "text/plain": [
       "9"
      ]
     },
     "execution_count": 1,
     "metadata": {},
     "output_type": "execute_result"
    }
   ],
   "source": [
    "#return\n",
    "\n",
    "def sum(num1, num2):\n",
    "    return num1 + num2\n",
    "\n",
    "sum(4,5)"
   ]
  },
  {
   "cell_type": "code",
   "execution_count": null,
   "metadata": {},
   "outputs": [],
   "source": [
    "#Methods vs Functions\n",
    "\n",
    "#functions - ___()\n",
    "list()\n",
    "print()\n",
    "max()\n",
    "min()\n",
    "input()\n",
    "\n",
    "#user generated functions\n",
    "def something():\n",
    "    pass\n",
    "\n",
    "#methods - .___()\n",
    "'hellooo'.capitalize()\n",
    "\n"
   ]
  }
 ],
 "metadata": {
  "kernelspec": {
   "display_name": "Python 3",
   "language": "python",
   "name": "python3"
  },
  "language_info": {
   "codemirror_mode": {
    "name": "ipython",
    "version": 3
   },
   "file_extension": ".py",
   "mimetype": "text/x-python",
   "name": "python",
   "nbconvert_exporter": "python",
   "pygments_lexer": "ipython3",
   "version": "3.10.11"
  },
  "orig_nbformat": 4
 },
 "nbformat": 4,
 "nbformat_minor": 2
}
